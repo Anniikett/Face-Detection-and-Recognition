{
 "cells": [
  {
   "cell_type": "code",
   "execution_count": 1,
   "metadata": {
    "ExecuteTime": {
     "end_time": "2022-05-15T12:55:37.065909Z",
     "start_time": "2022-05-15T12:55:28.796026Z"
    }
   },
   "outputs": [],
   "source": [
    "import cv2\n",
    "import numpy as np"
   ]
  },
  {
   "cell_type": "code",
   "execution_count": 2,
   "metadata": {
    "ExecuteTime": {
     "end_time": "2022-05-15T12:55:37.099965Z",
     "start_time": "2022-05-15T12:55:37.067743Z"
    }
   },
   "outputs": [],
   "source": [
    "# load model\n",
    "face_classifier = cv2.CascadeClassifier('haarcascade_frontalface_default.xml')\n"
   ]
  },
  {
   "cell_type": "code",
   "execution_count": 3,
   "metadata": {
    "ExecuteTime": {
     "end_time": "2022-05-15T12:55:37.110537Z",
     "start_time": "2022-05-15T12:55:37.105663Z"
    }
   },
   "outputs": [
    {
     "name": "stderr",
     "output_type": "stream",
     "text": [
      "<>:5: SyntaxWarning: \"is\" with a literal. Did you mean \"==\"?\n",
      "<>:5: SyntaxWarning: \"is\" with a literal. Did you mean \"==\"?\n",
      "/var/folders/38/w2xvkyxd2k37kxqm6g11c6fw0000gn/T/ipykernel_1975/2333871148.py:5: SyntaxWarning: \"is\" with a literal. Did you mean \"==\"?\n",
      "  if faces is ():\n"
     ]
    }
   ],
   "source": [
    "\n",
    "def face_extractor(img):\n",
    "    gray = cv2.cvtColor(img, cv2.COLOR_BGR2GRAY)\n",
    "    faces = face_classifier.detectMultiScale(gray, 1.3, 5)\n",
    "\n",
    "    if faces is ():\n",
    "        return None\n",
    "\n",
    "    for (x, y, w, h) in faces:\n",
    "        cropped_face = img[y:y + h, x:x + w]\n",
    "\n",
    "    return cropped_face"
   ]
  },
  {
   "cell_type": "code",
   "execution_count": 4,
   "metadata": {
    "ExecuteTime": {
     "end_time": "2022-05-15T12:55:42.471708Z",
     "start_time": "2022-05-15T12:55:37.113125Z"
    }
   },
   "outputs": [
    {
     "name": "stdout",
     "output_type": "stream",
     "text": [
      "face not found \n",
      "Collecting Samples Complete  !!!!\n"
     ]
    }
   ],
   "source": [
    "\n",
    "\n",
    "\n",
    "cap = cv2.VideoCapture(0)\n",
    "count = 0\n",
    "\n",
    "while True:\n",
    "    ret, frame = cap.read()\n",
    "\n",
    "    if face_extractor(frame) is not None:\n",
    "        count += 1\n",
    "        face = cv2.resize(face_extractor(frame), (200, 200))\n",
    "\n",
    "\n",
    "        face = cv2.cvtColor(face, cv2.COLOR_BGR2GRAY)\n",
    "\n",
    "        file_name_path = 'faces/user' + str(count) + '.jpg'\n",
    "\n",
    "        cv2.imwrite(file_name_path, face)\n",
    "        cv2.putText(face, str(count), (50, 50), cv2.FONT_HERSHEY_COMPLEX, 1, (0, 255, 0), 2)\n",
    "        cv2.imshow('FACE CROPPER ', face)\n",
    "    else:\n",
    "        print('face not found ')\n",
    "\n",
    "    if cv2.waitKey(1) == 13 or count == 200:\n",
    "        break\n",
    "\n",
    "cap.release()\n",
    "cv2.destroyAllWindows()\n",
    "print('Collecting Samples Complete  !!!!')\n"
   ]
  },
  {
   "cell_type": "code",
   "execution_count": null,
   "metadata": {},
   "outputs": [],
   "source": []
  },
  {
   "cell_type": "code",
   "execution_count": null,
   "metadata": {},
   "outputs": [],
   "source": []
  },
  {
   "cell_type": "markdown",
   "metadata": {},
   "source": [
    "# Recognition"
   ]
  },
  {
   "cell_type": "code",
   "execution_count": 5,
   "metadata": {
    "ExecuteTime": {
     "end_time": "2022-05-15T12:55:42.476100Z",
     "start_time": "2022-05-15T12:55:42.473555Z"
    }
   },
   "outputs": [],
   "source": [
    "import cv2\n",
    "import numpy as np\n",
    "from os import listdir\n",
    "from os.path import isfile, join"
   ]
  },
  {
   "cell_type": "code",
   "execution_count": 6,
   "metadata": {
    "ExecuteTime": {
     "end_time": "2022-05-15T12:55:42.481945Z",
     "start_time": "2022-05-15T12:55:42.477547Z"
    }
   },
   "outputs": [],
   "source": [
    "\n",
    "data_path = 'faces/'\n",
    "onlyfiles = [f for f in listdir(data_path) if isfile(join(data_path, f))]\n"
   ]
  },
  {
   "cell_type": "code",
   "execution_count": 7,
   "metadata": {
    "ExecuteTime": {
     "end_time": "2022-05-15T12:55:42.492617Z",
     "start_time": "2022-05-15T12:55:42.483252Z"
    }
   },
   "outputs": [
    {
     "data": {
      "text/plain": [
       "['user60.jpg',\n",
       " 'user48.jpg',\n",
       " 'images-3.jpeg',\n",
       " 'user49.jpg',\n",
       " 'user59.jpg',\n",
       " 'photo-1588410670460-cdab54625253.jpeg',\n",
       " 'user58.jpg',\n",
       " '14.jpg',\n",
       " 'user14.jpg',\n",
       " 'user28.jpg',\n",
       " 'images-5.jpeg',\n",
       " 'user29.jpg',\n",
       " 'user15.jpg',\n",
       " 'user17.jpg',\n",
       " 'user9.jpg',\n",
       " 'v3_0933886.jpg',\n",
       " 'user8.jpg',\n",
       " 'user16.jpg',\n",
       " 'user12.jpg',\n",
       " 'user13.jpg',\n",
       " 'user39.jpg',\n",
       " 'user11.jpg',\n",
       " 'images-4.jpeg',\n",
       " 'user10.jpg',\n",
       " 'user38.jpg',\n",
       " 'user21.jpg',\n",
       " 'user35.jpg',\n",
       " 'Unknown-3',\n",
       " 'user3.jpg',\n",
       " 'user2.jpg',\n",
       " 'user34.jpg',\n",
       " 'user20.jpg',\n",
       " '20.jpg',\n",
       " 'user36.jpg',\n",
       " 'user22.jpg',\n",
       " 'user1.jpg',\n",
       " 'user23.jpg',\n",
       " 'user37.jpg',\n",
       " 'user33.jpg',\n",
       " 'user27.jpg',\n",
       " 'user5.jpg',\n",
       " 'user4.jpg',\n",
       " 'user26.jpg',\n",
       " 'user32.jpg',\n",
       " 'user18.jpg',\n",
       " 'user24.jpg',\n",
       " 'Baby_Face.JPG',\n",
       " 'user30.jpg',\n",
       " 'user6.jpg',\n",
       " 'user7.jpg',\n",
       " 'user31.jpg',\n",
       " 'user25.jpg',\n",
       " 'user19.jpg',\n",
       " 'user42.jpg',\n",
       " 'user56.jpg',\n",
       " 'user57.jpg',\n",
       " 'user43.jpg',\n",
       " 'user55.jpg',\n",
       " 'user41.jpg',\n",
       " 'user40.jpg',\n",
       " 'user54.jpg',\n",
       " '65423767-portrait-of-real-black-african-man-with-no-expression-id-or-passport-photo-full-collection-of-divers.jpg',\n",
       " 'user50.jpg',\n",
       " 'user44.jpg',\n",
       " 'user45.jpg',\n",
       " 'user51.jpg',\n",
       " 'user47.jpg',\n",
       " 'user53.jpg',\n",
       " 'user52.jpg',\n",
       " 'user46.jpg']"
      ]
     },
     "execution_count": 7,
     "metadata": {},
     "output_type": "execute_result"
    }
   ],
   "source": [
    "onlyfiles"
   ]
  },
  {
   "cell_type": "code",
   "execution_count": 8,
   "metadata": {
    "ExecuteTime": {
     "end_time": "2022-05-15T12:55:42.613909Z",
     "start_time": "2022-05-15T12:55:42.494159Z"
    }
   },
   "outputs": [],
   "source": [
    "\n",
    "Training_Data, Labels = [], []\n",
    "\n",
    "for i, files in enumerate(onlyfiles):\n",
    "    image_path = data_path + onlyfiles[i] # face/user1.jpg\n",
    "    images = cv2.imread(image_path, cv2.IMREAD_GRAYSCALE)\n",
    "    Training_Data.append(np.asarray(images, dtype=np.uint8))\n",
    "    Labels.append(i)\n",
    "\n",
    "Labels = np.asarray(Labels, dtype=np.int32)\n"
   ]
  },
  {
   "cell_type": "code",
   "execution_count": 9,
   "metadata": {
    "ExecuteTime": {
     "end_time": "2022-05-15T12:55:43.125575Z",
     "start_time": "2022-05-15T12:55:42.617365Z"
    }
   },
   "outputs": [
    {
     "name": "stderr",
     "output_type": "stream",
     "text": [
      "/var/folders/38/w2xvkyxd2k37kxqm6g11c6fw0000gn/T/ipykernel_1975/274652319.py:9: VisibleDeprecationWarning: Creating an ndarray from ragged nested sequences (which is a list-or-tuple of lists-or-tuples-or ndarrays with different lengths or shapes) is deprecated. If you meant to do this, you must specify 'dtype=object' when creating the ndarray.\n",
      "  model.train(np.asarray(Training_Data), np.asarray(Labels))\n"
     ]
    },
    {
     "name": "stdout",
     "output_type": "stream",
     "text": [
      "Model Training Complete !!!\n"
     ]
    }
   ],
   "source": [
    "\n",
    "# Linear Binary Phase Histogram Classifier\n",
    "model = cv2.face.LBPHFaceRecognizer_create() \n",
    "\"\"\" this line will generate error run the following command \n",
    "\n",
    "python -m pip install --user opencv-contrib-python\n",
    "\n",
    "\"\"\"\n",
    "\n",
    "model.train(np.asarray(Training_Data), np.asarray(Labels))\n",
    "print('Model Training Complete !!!')\n",
    "\n",
    "face_classifier = cv2.CascadeClassifier('haarcascade_frontalface_default.xml')\n",
    "\n"
   ]
  },
  {
   "cell_type": "code",
   "execution_count": 10,
   "metadata": {
    "ExecuteTime": {
     "end_time": "2022-05-15T12:55:43.131002Z",
     "start_time": "2022-05-15T12:55:43.126732Z"
    }
   },
   "outputs": [
    {
     "name": "stderr",
     "output_type": "stream",
     "text": [
      "<>:4: SyntaxWarning: \"is\" with a literal. Did you mean \"==\"?\n",
      "<>:4: SyntaxWarning: \"is\" with a literal. Did you mean \"==\"?\n",
      "/var/folders/38/w2xvkyxd2k37kxqm6g11c6fw0000gn/T/ipykernel_1975/3377660739.py:4: SyntaxWarning: \"is\" with a literal. Did you mean \"==\"?\n",
      "  if faces is ():\n"
     ]
    }
   ],
   "source": [
    "\n",
    "\n",
    "def face_detector(img, size=0.5):\n",
    "    gray = cv2.cvtColor(img, cv2.COLOR_BGR2GRAY)\n",
    "    faces = face_classifier.detectMultiScale(gray, 1.3, )\n",
    "    if faces is ():\n",
    "        return img, []\n",
    "    for (x, y, w, h) in faces:\n",
    "        cv2.rectangle(img, (x, y), (x + w, y + h), (0, 255, 255), 2)\n",
    "        roi = img[y:y + h, x:x + w]\n",
    "        roi = cv2.resize(roi, (200, 200))\n",
    "\n",
    "    return img, roi"
   ]
  },
  {
   "cell_type": "code",
   "execution_count": 11,
   "metadata": {
    "ExecuteTime": {
     "end_time": "2022-05-15T12:55:48.052927Z",
     "start_time": "2022-05-15T12:55:43.132130Z"
    }
   },
   "outputs": [],
   "source": [
    "\n",
    "\n",
    "\n",
    "cap = cv2.VideoCapture(0)\n",
    "\n",
    "while True:\n",
    "    ret, frame = cap.read()\n",
    "\n",
    "    image, face = face_detector(frame)\n",
    "\n",
    "    try:\n",
    "\n",
    "        face = cv2.cvtColor(face, cv2.COLOR_BGR2GRAY)\n",
    "        result = model.predict(face)\n",
    "\n",
    "        if result[1] < 500:\n",
    "            confidence = int(100 * (1 - (result[1]) / 300))\n",
    "            display_string = str(confidence) + '% Confidence it is USER'\n",
    "\n",
    "        cv2.putText(image, display_string, (100, 100), cv2.FONT_HERSHEY_COMPLEX, 1, (255, 120, 255), 2)\n",
    "\n",
    "        if confidence > 75:\n",
    "            cv2.putText(image, \"Unlocked\", (250, 450), cv2.FONT_HERSHEY_COMPLEX, 1, (0, 55, 255), 2)\n",
    "            cv2.imshow('Face Cropper', image)\n",
    "\n",
    "        else:\n",
    "            cv2.putText(image, \"Locked\", (250, 450), cv2.FONT_HERSHEY_COMPLEX, 1, (255, 55, 0), 2)\n",
    "            cv2.imshow('Face Cropper', image)\n",
    "\n",
    "    except:\n",
    "        cv2.putText(image, \"Face Not Found\", (250, 450), cv2.FONT_HERSHEY_COMPLEX, 1, (255,0,0), 2)\n",
    "\n",
    "        cv2.imshow('Face Cropper', image)\n",
    "        pass\n",
    "\n",
    "    if cv2.waitKey(1)==13:\n",
    "        break\n",
    "\n",
    "cap.release()\n",
    "cv2.destroyAllWindows()"
   ]
  },
  {
   "cell_type": "code",
   "execution_count": 12,
   "metadata": {
    "ExecuteTime": {
     "end_time": "2022-05-15T13:01:28.316144Z",
     "start_time": "2022-05-15T12:55:48.054072Z"
    }
   },
   "outputs": [
    {
     "name": "stdout",
     "output_type": "stream",
     "text": [
      "2\n",
      "2468\n"
     ]
    }
   ],
   "source": [
    "result=0\n",
    "number=input()\n",
    "for x in range(1,5):\n",
    "    result+=int(str(number)*x)\n",
    "print(result)"
   ]
  },
  {
   "cell_type": "code",
   "execution_count": 13,
   "metadata": {
    "ExecuteTime": {
     "end_time": "2022-05-15T13:01:28.329848Z",
     "start_time": "2022-05-15T13:01:28.321009Z"
    }
   },
   "outputs": [
    {
     "data": {
      "text/plain": [
       "11106"
      ]
     },
     "execution_count": 13,
     "metadata": {},
     "output_type": "execute_result"
    }
   ],
   "source": [
    "9 + 99 + 999+ 9999"
   ]
  },
  {
   "cell_type": "code",
   "execution_count": 14,
   "metadata": {
    "ExecuteTime": {
     "end_time": "2022-05-15T13:01:28.336361Z",
     "start_time": "2022-05-15T13:01:28.331921Z"
    }
   },
   "outputs": [
    {
     "data": {
      "text/plain": [
       "2468"
      ]
     },
     "execution_count": 14,
     "metadata": {},
     "output_type": "execute_result"
    }
   ],
   "source": [
    "2 + 22 + 222 + 2222"
   ]
  },
  {
   "cell_type": "code",
   "execution_count": null,
   "metadata": {},
   "outputs": [],
   "source": []
  }
 ],
 "metadata": {
  "kernelspec": {
   "display_name": "Python 3 (ipykernel)",
   "language": "python",
   "name": "python3"
  },
  "language_info": {
   "codemirror_mode": {
    "name": "ipython",
    "version": 3
   },
   "file_extension": ".py",
   "mimetype": "text/x-python",
   "name": "python",
   "nbconvert_exporter": "python",
   "pygments_lexer": "ipython3",
   "version": "3.9.7"
  },
  "toc": {
   "base_numbering": 1,
   "nav_menu": {},
   "number_sections": true,
   "sideBar": true,
   "skip_h1_title": false,
   "title_cell": "Table of Contents",
   "title_sidebar": "Contents",
   "toc_cell": false,
   "toc_position": {},
   "toc_section_display": true,
   "toc_window_display": false
  }
 },
 "nbformat": 4,
 "nbformat_minor": 4
}
